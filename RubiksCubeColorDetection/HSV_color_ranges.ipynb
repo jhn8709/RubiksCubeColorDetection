{
 "cells": [
  {
   "cell_type": "markdown",
   "id": "aabb0d16",
   "metadata": {},
   "source": [
    "The easy way to find HSV color ranges can be found in this link:\n",
    "https://docs.opencv.org/3.1.0/df/d9d/tutorial_py_colorspaces.html"
   ]
  },
  {
   "cell_type": "code",
   "execution_count": 2,
   "id": "939b719a",
   "metadata": {},
   "outputs": [],
   "source": [
    "import cv2 as cv\n",
    "import numpy as np"
   ]
  },
  {
   "cell_type": "code",
   "execution_count": 10,
   "id": "c33b0499",
   "metadata": {},
   "outputs": [],
   "source": [
    "green = np.uint8([[[0,255,0]]])\n",
    "blue = np.uint8([[[255,0,0]]])\n",
    "red = np.uint8([[[0,0,255]]])\n",
    "yellow = np.uint8([[[0,255,255]]])\n",
    "white = np.uint8([[[255,255,255]]])\n",
    "orange = np.uint8([[[0,128,255]]])"
   ]
  },
  {
   "cell_type": "code",
   "execution_count": 11,
   "id": "264a81e3",
   "metadata": {},
   "outputs": [],
   "source": [
    "hsv_green = cv.cvtColor(green, cv.COLOR_BGR2HSV)\n",
    "hsv_blue = cv.cvtColor(blue, cv.COLOR_BGR2HSV)\n",
    "hsv_red = cv.cvtColor(red, cv.COLOR_BGR2HSV)\n",
    "hsv_yellow = cv.cvtColor(yellow, cv.COLOR_BGR2HSV)\n",
    "hsv_white = cv.cvtColor(white, cv.COLOR_BGR2HSV)\n",
    "hsv_orange = cv.cvtColor(orange, cv.COLOR_BGR2HSV)"
   ]
  },
  {
   "cell_type": "code",
   "execution_count": 13,
   "id": "191de8f2",
   "metadata": {},
   "outputs": [
    {
     "name": "stdout",
     "output_type": "stream",
     "text": [
      "Values for green should be:  [[[ 60 255 255]]]\n",
      "Values for blue should be:  [[[120 255 255]]]\n",
      "Values for red should be:  [[[  0 255 255]]]\n",
      "Values for yellow should be:  [[[ 30 255 255]]]\n",
      "Values for white should be:  [[[  0   0 255]]]\n",
      "Values for orange should be:  [[[ 15 255 255]]]\n"
     ]
    }
   ],
   "source": [
    "print(\"Values for green should be: \",hsv_green)\n",
    "print(\"Values for blue should be: \",hsv_blue)\n",
    "print(\"Values for red should be: \",hsv_red)\n",
    "print(\"Values for yellow should be: \",hsv_yellow)\n",
    "print(\"Values for white should be: \",hsv_white)\n",
    "print(\"Values for orange should be: \",hsv_orange)"
   ]
  },
  {
   "cell_type": "code",
   "execution_count": null,
   "id": "97562441",
   "metadata": {},
   "outputs": [],
   "source": [
    "'''\n",
    "resized_img = cv.circle(resized_img, (77, 132), 7, black, cv.FILLED)\n",
    "resized_img = cv.circle(resized_img, (77, 202), 7, black, cv.FILLED)\n",
    "resized_img = cv.circle(resized_img, (77, 277), 7, black, cv.FILLED)\n",
    "resized_img = cv.circle(resized_img, (150, 132), 7, black, cv.FILLED)\n",
    "resized_img = cv.circle(resized_img, (150, 202), 7, black, cv.FILLED)\n",
    "resized_img = cv.circle(resized_img, (150, 277), 7, black, cv.FILLED)\n",
    "resized_img = cv.circle(resized_img, (221, 132), 7, black, cv.FILLED)\n",
    "resized_img = cv.circle(resized_img, (221, 202), 7, black, cv.FILLED)\n",
    "resized_img = cv.circle(resized_img, (221, 277), 7, black, cv.FILLED)\n",
    "'''"
   ]
  }
 ],
 "metadata": {
  "kernelspec": {
   "display_name": "Python 3 (ipykernel)",
   "language": "python",
   "name": "python3"
  },
  "language_info": {
   "codemirror_mode": {
    "name": "ipython",
    "version": 3
   },
   "file_extension": ".py",
   "mimetype": "text/x-python",
   "name": "python",
   "nbconvert_exporter": "python",
   "pygments_lexer": "ipython3",
   "version": "3.9.13"
  }
 },
 "nbformat": 4,
 "nbformat_minor": 5
}
